{
 "cells": [
  {
   "cell_type": "markdown",
   "id": "4ebd8479-f828-40ab-95ea-e6a0cc45ce68",
   "metadata": {},
   "source": [
    "# View IMU and GPS data of Husky Bagfile"
   ]
  },
  {
   "cell_type": "code",
   "execution_count": 5,
   "id": "a20d41c2-ff75-4a31-840d-1b11d93926a6",
   "metadata": {},
   "outputs": [],
   "source": [
    "# imports\n",
    "import matplotlib.pyplot as plt\n",
    "from rosbags.rosbag1 import Reader\n",
    "from rosbags.serde import deserialize_cdr, ros1_to_cdr"
   ]
  },
  {
   "cell_type": "code",
   "execution_count": 2,
   "id": "a476dd21-d646-4d7c-bace-ebdf3c131bde",
   "metadata": {},
   "outputs": [],
   "source": [
    "# Global vars\n",
    "bag_file_name = \"../bag-files/2022-06-22-14-23-58.bag\""
   ]
  },
  {
   "cell_type": "code",
   "execution_count": 4,
   "id": "c5dd67c5-f0b6-4f13-af27-f59dd31c34e2",
   "metadata": {
    "scrolled": true,
    "tags": []
   },
   "outputs": [
    {
     "name": "stdout",
     "output_type": "stream",
     "text": [
      "/camera/right/image_color/compressedDepth/parameter_updates dynamic_reconfigure/msg/Config\n",
      "/rosout rosgraph_msgs/msg/Log\n",
      "/velodyne_nodelet_manager_driver/parameter_updates dynamic_reconfigure/msg/Config\n",
      "/camera/image_right/image_raw/theora/parameter_updates dynamic_reconfigure/msg/Config\n",
      "/velodyne_nodelet_manager_transform/parameter_updates dynamic_reconfigure/msg/Config\n",
      "/camera/image_left/image_raw/compressedDepth/parameter_descriptions dynamic_reconfigure/msg/ConfigDescription\n",
      "/camera/image_proc_debayer_right/parameter_descriptions dynamic_reconfigure/msg/ConfigDescription\n",
      "/camera/right/image_color/compressed/parameter_updates dynamic_reconfigure/msg/Config\n",
      "/joy_teleop/cmd_vel geometry_msgs/msg/Twist\n",
      "/camera/image_proc_debayer_right/parameter_updates dynamic_reconfigure/msg/Config\n",
      "/camera/right/image_mono/theora/parameter_descriptions dynamic_reconfigure/msg/ConfigDescription\n",
      "/joy_teleop/joy sensor_msgs/msg/Joy\n",
      "/camera/image_left/image_raw/theora/parameter_descriptions dynamic_reconfigure/msg/ConfigDescription\n",
      "/camera/image_left/image_raw/compressedDepth/parameter_updates dynamic_reconfigure/msg/Config\n",
      "/camera/image_right/image_raw/theora/parameter_descriptions dynamic_reconfigure/msg/ConfigDescription\n",
      "/camera/bumblebee_nodelet_manager/bond bond/msg/Status\n",
      "/imu_topic sensor_msgs/msg/Imu\n",
      "/camera/bumblebee_nodelet_manager/bond bond/msg/Status\n",
      "/scan sensor_msgs/msg/LaserScan\n",
      "/camera/image_left/image_raw/compressed sensor_msgs/msg/CompressedImage\n",
      "/camera/image_right/image_raw/compressed sensor_msgs/msg/CompressedImage\n",
      "/velodyne_nodelet_manager_laserscan/parameter_updates dynamic_reconfigure/msg/Config\n",
      "/husky_velocity_controller/parameter_descriptions dynamic_reconfigure/msg/ConfigDescription\n",
      "/tf_static tf2_msgs/msg/TFMessage\n",
      "/camera/image_left/image_raw/compressed/parameter_updates dynamic_reconfigure/msg/Config\n",
      "/camera/right/image_color/compressedDepth/parameter_descriptions dynamic_reconfigure/msg/ConfigDescription\n",
      "/camera/right/image_mono/compressed/parameter_descriptions dynamic_reconfigure/msg/ConfigDescription\n",
      "/camera/right/image_color/compressed/parameter_descriptions dynamic_reconfigure/msg/ConfigDescription\n",
      "/camera/right/image_color/theora/parameter_updates dynamic_reconfigure/msg/Config\n",
      "/camera/right/image_mono/theora/parameter_updates dynamic_reconfigure/msg/Config\n",
      "/velodyne_nodelet_manager_driver/parameter_descriptions dynamic_reconfigure/msg/ConfigDescription\n",
      "/rosout rosgraph_msgs/msg/Log\n",
      "/rosout rosgraph_msgs/msg/Log\n",
      "/rosout rosgraph_msgs/msg/Log\n",
      "/rosout rosgraph_msgs/msg/Log\n",
      "/odometry/filtered nav_msgs/msg/Odometry\n",
      "/rosout rosgraph_msgs/msg/Log\n",
      "/rosout rosgraph_msgs/msg/Log\n",
      "/rosout rosgraph_msgs/msg/Log\n",
      "/rosout rosgraph_msgs/msg/Log\n",
      "/rosout rosgraph_msgs/msg/Log\n",
      "/rosout rosgraph_msgs/msg/Log\n",
      "/rosout rosgraph_msgs/msg/Log\n",
      "/rosout rosgraph_msgs/msg/Log\n",
      "/rosout rosgraph_msgs/msg/Log\n",
      "/rosout rosgraph_msgs/msg/Log\n",
      "/rosout rosgraph_msgs/msg/Log\n",
      "/rosout rosgraph_msgs/msg/Log\n",
      "/rosout rosgraph_msgs/msg/Log\n",
      "/camera/right/image_mono/compressedDepth/parameter_descriptions dynamic_reconfigure/msg/ConfigDescription\n",
      "/velodyne_packets velodyne_msgs/msg/VelodyneScan\n",
      "/camera/image_right/image_raw/compressed/parameter_descriptions dynamic_reconfigure/msg/ConfigDescription\n",
      "/rosout_agg rosgraph_msgs/msg/Log\n",
      "/joint_states sensor_msgs/msg/JointState\n",
      "/velodyne_points sensor_msgs/msg/PointCloud2\n",
      "/camera/image_right/image_raw sensor_msgs/msg/Image\n",
      "/camera/image_left/image_raw/theora/parameter_updates dynamic_reconfigure/msg/Config\n",
      "/camera/image_right/image_raw/compressedDepth/parameter_updates dynamic_reconfigure/msg/Config\n",
      "/camera/right/image_color/theora/parameter_descriptions dynamic_reconfigure/msg/ConfigDescription\n",
      "/velodyne_nodelet_manager_laserscan/parameter_descriptions dynamic_reconfigure/msg/ConfigDescription\n",
      "/camera/right/image_mono/compressedDepth/parameter_updates dynamic_reconfigure/msg/Config\n",
      "/camera/image_left/image_raw/compressed/parameter_descriptions dynamic_reconfigure/msg/ConfigDescription\n",
      "/tf tf2_msgs/msg/TFMessage\n",
      "/camera/right/image_mono/compressed/parameter_updates dynamic_reconfigure/msg/Config\n",
      "/twist_marker_server/update_full visualization_msgs/msg/InteractiveMarkerInit\n",
      "/camera/image_right/image_raw/compressedDepth/parameter_descriptions dynamic_reconfigure/msg/ConfigDescription\n",
      "/camera/image_right/image_raw/compressed/parameter_updates dynamic_reconfigure/msg/Config\n",
      "/husky_velocity_controller/parameter_updates dynamic_reconfigure/msg/Config\n",
      "/velodyne_nodelet_manager_transform/parameter_descriptions dynamic_reconfigure/msg/ConfigDescription\n",
      "/husky_velocity_controller/odom nav_msgs/msg/Odometry\n",
      "/tf tf2_msgs/msg/TFMessage\n",
      "/gps/nmea_sentence nmea_msgs/msg/Sentence\n",
      "/gps/fix sensor_msgs/msg/NavSatFix\n",
      "/gps/time_reference sensor_msgs/msg/TimeReference\n",
      "/camera/image_left/image_raw sensor_msgs/msg/Image\n",
      "/velodyne_nodelet_manager/bond bond/msg/Status\n",
      "/twist_marker_server/update visualization_msgs/msg/InteractiveMarkerUpdate\n",
      "/diagnostics diagnostic_msgs/msg/DiagnosticArray\n",
      "/velodyne_nodelet_manager/bond bond/msg/Status\n",
      "/camera/image_left/image_raw/theora theora_image_transport/msg/Packet\n",
      "/diagnostics_agg diagnostic_msgs/msg/DiagnosticArray\n",
      "/diagnostics_toplevel_state diagnostic_msgs/msg/DiagnosticStatus\n",
      "/diagnostics diagnostic_msgs/msg/DiagnosticArray\n",
      "/diagnostics diagnostic_msgs/msg/DiagnosticArray\n",
      "/status husky_msgs/msg/HuskyStatus\n",
      "/velodyne_nodelet_manager/bond bond/msg/Status\n",
      "/velodyne_nodelet_manager/bond bond/msg/Status\n",
      "/camera/image_right/image_raw/theora theora_image_transport/msg/Packet\n",
      "/diagnostics diagnostic_msgs/msg/DiagnosticArray\n",
      "/diagnostics diagnostic_msgs/msg/DiagnosticArray\n",
      "/husky_velocity_controller/cmd_vel geometry_msgs/msg/Twist\n"
     ]
    }
   ],
   "source": [
    "with Reader(bag_file_name) as reader:\n",
    "    # topic and msgtype information is available on .connections list\n",
    "    for connection in reader.connections:\n",
    "        print(connection.topic, connection.msgtype)"
   ]
  },
  {
   "cell_type": "markdown",
   "id": "9ee619ec-09ee-4153-b848-ee15137282eb",
   "metadata": {},
   "source": [
    "## Extract IMU time series"
   ]
  },
  {
   "cell_type": "code",
   "execution_count": 9,
   "id": "891d97c5-558e-4cb6-8011-97e7c4735aa1",
   "metadata": {},
   "outputs": [
    {
     "name": "stdout",
     "output_type": "stream",
     "text": [
      "Size: 1\n"
     ]
    }
   ],
   "source": [
    "# IMU Topic name and type\n",
    "# /imu_topic sensor_msgs/msg/Imu\n",
    "imu_series = []\n",
    "with Reader(bag_file_name) as reader:\n",
    "    connections = [x for x in reader.connections if x.topic == '/imu_topic']\n",
    "    print(\"Size:\",len(connections))\n",
    "    for connection, timestamp, rawdata in reader.messages(connections=connections):\n",
    "        msg = deserialize_cdr(ros1_to_cdr(rawdata, connection.msgtype), connection.msgtype)\n",
    "        imu_series.append(msg)"
   ]
  },
  {
   "cell_type": "code",
   "execution_count": null,
   "id": "24124831-1d46-4bc1-95aa-6209bf1c7f1e",
   "metadata": {},
   "outputs": [],
   "source": [
    "print(\"Size:\", len(imu_seriesseries))"
   ]
  }
 ],
 "metadata": {
  "kernelspec": {
   "display_name": "Python 3",
   "language": "python",
   "name": "python3"
  },
  "language_info": {
   "codemirror_mode": {
    "name": "ipython",
    "version": 3
   },
   "file_extension": ".py",
   "mimetype": "text/x-python",
   "name": "python",
   "nbconvert_exporter": "python",
   "pygments_lexer": "ipython3",
   "version": "3.10.5"
  }
 },
 "nbformat": 4,
 "nbformat_minor": 5
}
